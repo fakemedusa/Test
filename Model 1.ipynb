{
 "cells": [
  {
   "cell_type": "markdown",
   "metadata": {},
   "source": [
    "# Single Span Logistic-Non Linear Model"
   ]
  },
  {
   "cell_type": "code",
   "execution_count": 52,
   "metadata": {},
   "outputs": [],
   "source": [
    "# importing required libraries\n",
    "import pandas as pd\n",
    "import numpy as np\n",
    "from matplotlib import pyplot as plt\n",
    "from math import sqrt\n",
    "from sklearn.metrics import mean_squared_error"
   ]
  },
  {
   "cell_type": "code",
   "execution_count": 53,
   "metadata": {},
   "outputs": [],
   "source": [
    "# function to calculate RMSE\n",
    "def rmse(true,pred):\n",
    "    rmse = sqrt(mean_squared_error(true, pred))\n",
    "    return rmse\n",
    "# function for normalising datasets using MinMaxScaler method\n",
    "\n",
    "def minmaxscaler(train_X):    \n",
    "    from sklearn.preprocessing import MinMaxScaler\n",
    "    scaler = MinMaxScaler(feature_range=(0,1))\n",
    "    train_X = scaler.fit_transform(train_X)\n",
    "    \n",
    "    return train_X\n",
    "\n",
    "# Function to calculate MAPE \n",
    "def mape(test_y, pred):\n",
    "    #for i in range(pred.shape[0]):\n",
    "    a = abs(test_y - pred)/test_y\n",
    "    mape = sum(a)*100/len(a)\n",
    "    return mape \n",
    "\n",
    "# function for plotting predicted AR values against actual AR values\n",
    "def lineplot(true, pred,n):   \n",
    "    x = np.linspace(0,max(true),10)\n",
    "    y = x\n",
    "    plt.plot( true[0:n], pred[0:n],'.', color='red' )\n",
    "    plt.plot(x,y, color = 'black')\n",
    "    plt.xlabel('Acutal AR')\n",
    "    plt.ylabel('Predicted AR')\n",
    "    plt.legend([\"Prediction\", \"True Value\"])\n",
    "    plt.axis('scaled')"
   ]
  },
  {
   "cell_type": "code",
   "execution_count": 54,
   "metadata": {
    "scrolled": true
   },
   "outputs": [],
   "source": [
    "def model_performance(model, train_X,train_y,test_X,test_y):    \n",
    "    # Predicting AR on a training data set and RMSE, MAPE calculation\n",
    "    pred_model = model.predict(train_X)\n",
    "    mape_train_model = mape(train_y,pred_model)\n",
    "    rmse_train_model = rmse(train_y,pred_model)\n",
    "\n",
    "    # Predicting AR on a test data set and RMSE, MAPE calculation\n",
    "    pred_test_model = model.predict(test_X)\n",
    "    mape_test_model = mape(test_y,pred_test_model)\n",
    "    rmse_test_model = rmse(test_y,pred_test_model)\n",
    "\n",
    "    print(' Model \\n\\nTraining score:',model.score(train_X,train_y),\n",
    "          '\\nRMSE:',rmse_train_model,\n",
    "          '\\nMAPE:',mape_train_model,\n",
    "          \n",
    "          '\\n\\nTest score:',model.score(test_X,test_y),\n",
    "          '\\nRMSE:',rmse_test_model,\n",
    "          '\\nMAPE:',mape_test_model,\n",
    "          \n",
    "         )\n",
    "    print('\\nTest set Graph Plot')\n",
    "    lineplot(test_y,pred_test_model,100)"
   ]
  },
  {
   "cell_type": "markdown",
   "metadata": {},
   "source": [
    "## 1. Loading Dataset"
   ]
  },
  {
   "cell_type": "code",
   "execution_count": 55,
   "metadata": {},
   "outputs": [],
   "source": [
    "# loading datset of single span reinforced concrete beam design cases\n",
    "df_original = pd.read_csv(r'ds_singlespan.csv',index_col=0)"
   ]
  },
  {
   "cell_type": "code",
   "execution_count": 56,
   "metadata": {},
   "outputs": [],
   "source": [
    "#Shuffling Dataset\n",
    "df_original = df_original.sample(frac=1)\n",
    "df_original = df_original.reset_index(drop=True)"
   ]
  },
  {
   "cell_type": "code",
   "execution_count": 57,
   "metadata": {},
   "outputs": [],
   "source": [
    "#Selecting only Design Cases ( removing Non linearity)\n",
    "#df = df_original.loc[df_original['AR']!=0]\n",
    "df=df_original\n",
    "df['AR']=round(df['AR'])"
   ]
  },
  {
   "cell_type": "code",
   "execution_count": 58,
   "metadata": {
    "scrolled": true
   },
   "outputs": [],
   "source": [
    "#Adding Design column\n",
    "df['Design'] = np.where(df.AR>0,1,0)"
   ]
  },
  {
   "cell_type": "code",
   "execution_count": 59,
   "metadata": {
    "scrolled": false
   },
   "outputs": [
    {
     "data": {
      "text/html": [
       "<div>\n",
       "<style scoped>\n",
       "    .dataframe tbody tr th:only-of-type {\n",
       "        vertical-align: middle;\n",
       "    }\n",
       "\n",
       "    .dataframe tbody tr th {\n",
       "        vertical-align: top;\n",
       "    }\n",
       "\n",
       "    .dataframe thead th {\n",
       "        text-align: right;\n",
       "    }\n",
       "</style>\n",
       "<table border=\"1\" class=\"dataframe\">\n",
       "  <thead>\n",
       "    <tr style=\"text-align: right;\">\n",
       "      <th></th>\n",
       "      <th>Gk</th>\n",
       "      <th>Qk</th>\n",
       "      <th>L</th>\n",
       "      <th>B</th>\n",
       "      <th>H</th>\n",
       "      <th>AR</th>\n",
       "      <th>Design</th>\n",
       "    </tr>\n",
       "  </thead>\n",
       "  <tbody>\n",
       "    <tr>\n",
       "      <th>0</th>\n",
       "      <td>5.641078</td>\n",
       "      <td>6.454159</td>\n",
       "      <td>3525.49</td>\n",
       "      <td>310.44</td>\n",
       "      <td>459.03</td>\n",
       "      <td>212.0</td>\n",
       "      <td>1</td>\n",
       "    </tr>\n",
       "    <tr>\n",
       "      <th>1</th>\n",
       "      <td>6.495088</td>\n",
       "      <td>5.690580</td>\n",
       "      <td>7612.63</td>\n",
       "      <td>192.94</td>\n",
       "      <td>589.41</td>\n",
       "      <td>580.0</td>\n",
       "      <td>1</td>\n",
       "    </tr>\n",
       "    <tr>\n",
       "      <th>2</th>\n",
       "      <td>7.060431</td>\n",
       "      <td>7.120284</td>\n",
       "      <td>4968.20</td>\n",
       "      <td>189.02</td>\n",
       "      <td>394.20</td>\n",
       "      <td>446.0</td>\n",
       "      <td>1</td>\n",
       "    </tr>\n",
       "    <tr>\n",
       "      <th>3</th>\n",
       "      <td>7.390272</td>\n",
       "      <td>8.933311</td>\n",
       "      <td>4149.16</td>\n",
       "      <td>188.92</td>\n",
       "      <td>385.71</td>\n",
       "      <td>369.0</td>\n",
       "      <td>1</td>\n",
       "    </tr>\n",
       "    <tr>\n",
       "      <th>4</th>\n",
       "      <td>5.578612</td>\n",
       "      <td>6.119236</td>\n",
       "      <td>3913.15</td>\n",
       "      <td>182.62</td>\n",
       "      <td>575.11</td>\n",
       "      <td>162.0</td>\n",
       "      <td>1</td>\n",
       "    </tr>\n",
       "    <tr>\n",
       "      <th>...</th>\n",
       "      <td>...</td>\n",
       "      <td>...</td>\n",
       "      <td>...</td>\n",
       "      <td>...</td>\n",
       "      <td>...</td>\n",
       "      <td>...</td>\n",
       "      <td>...</td>\n",
       "    </tr>\n",
       "    <tr>\n",
       "      <th>18369</th>\n",
       "      <td>5.123966</td>\n",
       "      <td>9.544296</td>\n",
       "      <td>5374.92</td>\n",
       "      <td>197.00</td>\n",
       "      <td>308.47</td>\n",
       "      <td>0.0</td>\n",
       "      <td>0</td>\n",
       "    </tr>\n",
       "    <tr>\n",
       "      <th>18370</th>\n",
       "      <td>8.099798</td>\n",
       "      <td>5.990037</td>\n",
       "      <td>3646.97</td>\n",
       "      <td>463.67</td>\n",
       "      <td>553.77</td>\n",
       "      <td>384.0</td>\n",
       "      <td>1</td>\n",
       "    </tr>\n",
       "    <tr>\n",
       "      <th>18371</th>\n",
       "      <td>6.339134</td>\n",
       "      <td>7.238998</td>\n",
       "      <td>5867.47</td>\n",
       "      <td>316.71</td>\n",
       "      <td>367.91</td>\n",
       "      <td>670.0</td>\n",
       "      <td>1</td>\n",
       "    </tr>\n",
       "    <tr>\n",
       "      <th>18372</th>\n",
       "      <td>5.019220</td>\n",
       "      <td>5.482283</td>\n",
       "      <td>4226.50</td>\n",
       "      <td>246.45</td>\n",
       "      <td>479.83</td>\n",
       "      <td>180.0</td>\n",
       "      <td>1</td>\n",
       "    </tr>\n",
       "    <tr>\n",
       "      <th>18373</th>\n",
       "      <td>6.097161</td>\n",
       "      <td>9.895700</td>\n",
       "      <td>4562.77</td>\n",
       "      <td>227.31</td>\n",
       "      <td>344.26</td>\n",
       "      <td>522.0</td>\n",
       "      <td>1</td>\n",
       "    </tr>\n",
       "  </tbody>\n",
       "</table>\n",
       "<p>18374 rows × 7 columns</p>\n",
       "</div>"
      ],
      "text/plain": [
       "             Gk        Qk        L       B       H     AR  Design\n",
       "0      5.641078  6.454159  3525.49  310.44  459.03  212.0       1\n",
       "1      6.495088  5.690580  7612.63  192.94  589.41  580.0       1\n",
       "2      7.060431  7.120284  4968.20  189.02  394.20  446.0       1\n",
       "3      7.390272  8.933311  4149.16  188.92  385.71  369.0       1\n",
       "4      5.578612  6.119236  3913.15  182.62  575.11  162.0       1\n",
       "...         ...       ...      ...     ...     ...    ...     ...\n",
       "18369  5.123966  9.544296  5374.92  197.00  308.47    0.0       0\n",
       "18370  8.099798  5.990037  3646.97  463.67  553.77  384.0       1\n",
       "18371  6.339134  7.238998  5867.47  316.71  367.91  670.0       1\n",
       "18372  5.019220  5.482283  4226.50  246.45  479.83  180.0       1\n",
       "18373  6.097161  9.895700  4562.77  227.31  344.26  522.0       1\n",
       "\n",
       "[18374 rows x 7 columns]"
      ]
     },
     "execution_count": 59,
     "metadata": {},
     "output_type": "execute_result"
    }
   ],
   "source": [
    "df"
   ]
  },
  {
   "cell_type": "code",
   "execution_count": 60,
   "metadata": {
    "scrolled": true
   },
   "outputs": [
    {
     "data": {
      "text/plain": [
       "AR        1.000000\n",
       "Design    0.739387\n",
       "B         0.409463\n",
       "H         0.402850\n",
       "L         0.138173\n",
       "Qk        0.029180\n",
       "Gk        0.026504\n",
       "Name: AR, dtype: float64"
      ]
     },
     "execution_count": 60,
     "metadata": {},
     "output_type": "execute_result"
    }
   ],
   "source": [
    "#Pearson Correlation\n",
    "corr = df.corr()\n",
    "corr[\"AR\"].sort_values(ascending=False)"
   ]
  },
  {
   "cell_type": "markdown",
   "metadata": {},
   "source": [
    "## 2. Dataset Split"
   ]
  },
  {
   "cell_type": "code",
   "execution_count": 61,
   "metadata": {},
   "outputs": [],
   "source": [
    "# Defining input and output features for Logistic Regression Model\n",
    "train_log = df.drop(columns = ['AR','Design'])\n",
    "target_log = df['Design']\n",
    "Actual_AR = df['AR']\n",
    "\n",
    "# Defining input and output features for Non Linear Regression Model\n",
    "df1 = df_original.loc[df_original['AR']!=0]\n",
    "train_nlr = df1.drop(columns = ['AR','Design'])\n",
    "target_nlr = df1['AR']"
   ]
  },
  {
   "cell_type": "code",
   "execution_count": 62,
   "metadata": {},
   "outputs": [],
   "source": [
    "from sklearn.model_selection import train_test_split\n",
    "\n",
    "n=2000 #(dataset used for training and validation)\n",
    "\n",
    "X_train_log, X_test_log, y_train_log, y_test_log = train_test_split(train_log[0:n], target_log[0:n], test_size=0.2, random_state=42)\n",
    "\n",
    "X_train, X_test, y_train, y_test = train_test_split(train_nlr[0:n], target_nlr[0:n], test_size=0.2, random_state=42)\n"
   ]
  },
  {
   "cell_type": "code",
   "execution_count": 63,
   "metadata": {},
   "outputs": [],
   "source": [
    "from sklearn.pipeline import Pipeline\n",
    "from sklearn.preprocessing import MinMaxScaler\n",
    "from sklearn.preprocessing import StandardScaler\n",
    "from sklearn.preprocessing import PolynomialFeatures\n",
    "\n",
    "from sklearn.linear_model import LinearRegression\n",
    "from sklearn.linear_model import LogisticRegression\n",
    "from sklearn.linear_model import Ridge\n",
    "\n",
    "from sklearn.metrics import r2_score\n",
    "from sklearn.metrics import log_loss\n",
    "from sklearn.metrics import confusion_matrix"
   ]
  },
  {
   "cell_type": "markdown",
   "metadata": {},
   "source": [
    "## 3. Logistic Regression Model"
   ]
  },
  {
   "cell_type": "code",
   "execution_count": 64,
   "metadata": {},
   "outputs": [
    {
     "name": "stderr",
     "output_type": "stream",
     "text": [
      "C:\\Users\\fakem\\anaconda3\\lib\\site-packages\\sklearn\\linear_model\\_sag.py:330: ConvergenceWarning: The max_iter was reached which means the coef_ did not converge\n",
      "  \"the coef_ did not converge\", ConvergenceWarning)\n"
     ]
    },
    {
     "data": {
      "text/plain": [
       "Pipeline(memory=None,\n",
       "         steps=[('minmax',\n",
       "                 StandardScaler(copy=True, with_mean=True, with_std=True)),\n",
       "                ('poly',\n",
       "                 PolynomialFeatures(degree=2, include_bias=True,\n",
       "                                    interaction_only=False, order='C')),\n",
       "                ('log',\n",
       "                 LogisticRegression(C=0.5, class_weight=None, dual=False,\n",
       "                                    fit_intercept=True, intercept_scaling=1,\n",
       "                                    l1_ratio=None, max_iter=100,\n",
       "                                    multi_class='auto', n_jobs=None,\n",
       "                                    penalty='l2', random_state=None,\n",
       "                                    solver='saga', tol=0.0001, verbose=0,\n",
       "                                    warm_start=False))],\n",
       "         verbose=False)"
      ]
     },
     "execution_count": 64,
     "metadata": {},
     "output_type": "execute_result"
    }
   ],
   "source": [
    "log_model = Pipeline([('minmax',StandardScaler()),\n",
    "                         ('poly', PolynomialFeatures(degree=2)),\n",
    "                        ('log',LogisticRegression(C=0.5,solver='saga'))])\n",
    "\n",
    "log_model.fit(X_train_log, y_train_log)"
   ]
  },
  {
   "cell_type": "code",
   "execution_count": 65,
   "metadata": {
    "scrolled": false
   },
   "outputs": [
    {
     "name": "stdout",
     "output_type": "stream",
     "text": [
      " Model \n",
      "\n",
      "Training score: 0.9875 \n",
      "RMSE: 0.11180339887498948 \n",
      "MAPE: nan \n",
      "\n",
      "Test score: 0.9925 \n",
      "RMSE: 0.08660254037844387 \n",
      "MAPE: nan\n",
      "\n",
      "Test set Graph Plot\n"
     ]
    },
    {
     "data": {
      "image/png": "[encoded data removed]",
      "text/plain": [
       "<Figure size 432x288 with 1 Axes>"
      ]
     },
     "metadata": {
      "needs_background": "light"
     },
     "output_type": "display_data"
    }
   ],
   "source": [
    "model_performance(log_model,X_train_log,y_train_log,X_test_log,y_test_log)"
   ]
  },
  {
   "cell_type": "code",
   "execution_count": 66,
   "metadata": {
    "scrolled": true
   },
   "outputs": [
    {
     "name": "stdout",
     "output_type": "stream",
     "text": [
      "Log Loss of Model : 0.25904482094898207 \n",
      "Confusion Matrix : \n",
      "[[ 96   2]\n",
      " [  1 301]]\n"
     ]
    }
   ],
   "source": [
    "pred_log = log_model.predict(X_test_log)\n",
    "print(\"Log Loss of Model : {} \\nConfusion Matrix : \\n{}\".format(log_loss(pred_log,y_test_log),\n",
    "                                                                confusion_matrix(pred_log,y_test_log)))"
   ]
  },
  {
   "cell_type": "code",
   "execution_count": 67,
   "metadata": {
    "scrolled": true
   },
   "outputs": [
    {
     "data": {
      "text/plain": [
       "array([[ 1.26788108, -0.68901206, -0.52216982, -2.98159411,  2.69831512,\n",
       "         3.04736621, -0.05561373,  0.04795527, -0.53426175,  0.17250604,\n",
       "         0.16425326,  0.11301492, -0.44976387, -0.00498719,  0.26812873,\n",
       "        -0.32840171,  1.19415414,  1.74093301, -0.48808651, -0.90860643,\n",
       "        -1.38613374]])"
      ]
     },
     "execution_count": 67,
     "metadata": {},
     "output_type": "execute_result"
    }
   ],
   "source": [
    "log_model.named_steps['log'].coef_"
   ]
  },
  {
   "cell_type": "code",
   "execution_count": 68,
   "metadata": {},
   "outputs": [
    {
     "data": {
      "text/plain": [
       "array([5.07106721])"
      ]
     },
     "execution_count": 68,
     "metadata": {},
     "output_type": "execute_result"
    }
   ],
   "source": [
    "log_model.named_steps['log'].intercept_"
   ]
  },
  {
   "cell_type": "markdown",
   "metadata": {},
   "source": [
    "## 4. Regression Model"
   ]
  },
  {
   "cell_type": "markdown",
   "metadata": {},
   "source": [
    "### 4.1 Linear Regression"
   ]
  },
  {
   "cell_type": "code",
   "execution_count": 80,
   "metadata": {
    "scrolled": true
   },
   "outputs": [
    {
     "data": {
      "text/plain": [
       "Pipeline(memory=None,\n",
       "         steps=[('Std',\n",
       "                 StandardScaler(copy=True, with_mean=True, with_std=True)),\n",
       "                ('lr',\n",
       "                 LinearRegression(copy_X=True, fit_intercept=True, n_jobs=None,\n",
       "                                  normalize=False))],\n",
       "         verbose=False)"
      ]
     },
     "execution_count": 80,
     "metadata": {},
     "output_type": "execute_result"
    }
   ],
   "source": [
    "#Defining and Fitting Linear Regression model\n",
    "lr_model = Pipeline([('Std',StandardScaler()),\n",
    "                        ('lr',LinearRegression())])\n",
    "lr_model.fit(X_train, y_train)"
   ]
  },
  {
   "cell_type": "code",
   "execution_count": 81,
   "metadata": {
    "collapsed": true
   },
   "outputs": [
    {
     "name": "stdout",
     "output_type": "stream",
     "text": [
      " Model \n",
      "\n",
      "Training score: 0.8661348330544385 \n",
      "RMSE: 82.78041148745001 \n",
      "MAPE: 15.267170592439095 \n",
      "\n",
      "Test score: 0.8738291553012099 \n",
      "RMSE: 84.84134624356551 \n",
      "MAPE: 15.304980702316465\n",
      "\n",
      "Test set Graph Plot\n"
     ]
    },
    {
     "data": {
      "image/png": "[encoded data removed]",
      "text/plain": [
       "<Figure size 432x288 with 1 Axes>"
      ]
     },
     "metadata": {
      "needs_background": "light"
     },
     "output_type": "display_data"
    }
   ],
   "source": [
    "model_performance(lr_model,X_train,y_train,X_test,y_test)"
   ]
  },
  {
   "cell_type": "markdown",
   "metadata": {},
   "source": [
    "### 4.2 Non Linear Regression Model"
   ]
  },
  {
   "cell_type": "code",
   "execution_count": 82,
   "metadata": {
    "scrolled": false
   },
   "outputs": [
    {
     "data": {
      "text/plain": [
       "Pipeline(memory=None,\n",
       "         steps=[('scalar',\n",
       "                 StandardScaler(copy=True, with_mean=True, with_std=True)),\n",
       "                ('poly',\n",
       "                 PolynomialFeatures(degree=3, include_bias=True,\n",
       "                                    interaction_only=False, order='C')),\n",
       "                ('model',\n",
       "                 Ridge(alpha=3, copy_X=True, fit_intercept=True, max_iter=None,\n",
       "                       normalize=False, random_state=None, solver='auto',\n",
       "                       tol=0.001))],\n",
       "         verbose=False)"
      ]
     },
     "execution_count": 82,
     "metadata": {},
     "output_type": "execute_result"
    }
   ],
   "source": [
    "nlr_model = Pipeline( [ ('scalar', StandardScaler()),\n",
    "                        ('poly', PolynomialFeatures(degree=3)),\n",
    "                        ('model', Ridge(alpha=3, fit_intercept=True))\n",
    "                       ])\n",
    "\n",
    "nlr_model.fit(X_train, y_train)     "
   ]
  },
  {
   "cell_type": "code",
   "execution_count": 83,
   "metadata": {
    "scrolled": false
   },
   "outputs": [
    {
     "name": "stdout",
     "output_type": "stream",
     "text": [
      " Model \n",
      "\n",
      "Training score: 0.9959616398370791 \n",
      "RMSE: 14.377928296807246 \n",
      "MAPE: 2.7700976428354935 \n",
      "\n",
      "Test score: 0.9960728037879012 \n",
      "RMSE: 14.968192023037071 \n",
      "MAPE: 2.797532920720135\n",
      "\n",
      "Test set Graph Plot\n"
     ]
    },
    {
     "data": {
      "image/png": "[encoded data removed]",
      "text/plain": [
       "<Figure size 432x288 with 1 Axes>"
      ]
     },
     "metadata": {
      "needs_background": "light"
     },
     "output_type": "display_data"
    }
   ],
   "source": [
    "model_performance(nlr_model,X_train,y_train,X_test,y_test)"
   ]
  },
  {
   "cell_type": "code",
   "execution_count": 84,
   "metadata": {},
   "outputs": [
    {
     "data": {
      "text/plain": [
       "array([ 0.00000000e+00,  3.78850953e+01,  3.88085059e+01,  2.27967237e+02,\n",
       "        1.77704602e+00, -8.11818799e+01,  7.30880673e-01,  1.27303116e+00,\n",
       "        2.50892663e+01, -1.96359819e+00, -1.15795036e+01,  5.14114325e-01,\n",
       "        2.84220157e+01, -2.92475563e+00, -1.38276123e+01,  4.76282562e+01,\n",
       "       -1.90682986e+01, -6.82378234e+01,  4.23423236e+00,  1.04642263e+01,\n",
       "        2.51541399e+01,  6.68016029e-01, -2.45278058e-01, -3.29545585e-01,\n",
       "        8.36781990e-01,  1.41522213e-01,  4.65693587e-01, -4.27536135e-01,\n",
       "        1.30120486e+00,  4.52162895e-01,  6.57569985e-01,  2.37105179e+00,\n",
       "       -2.69796347e+00, -5.10261256e-01, -2.48563205e+00,  1.19106921e+00,\n",
       "        8.91580096e-01,  9.56142659e-01, -2.69349842e-01, -8.44314991e-01,\n",
       "        2.38039286e+00,  6.09952622e-01, -3.84292893e+00,  1.40195033e+00,\n",
       "       -1.36270122e+00,  1.59821661e+00, -5.99109168e+00,  1.01923056e+01,\n",
       "        4.65502946e+00, -2.40766305e+00, -1.24399438e+01,  5.99245972e+00,\n",
       "        3.19450221e-01,  9.93967808e-01,  3.97248433e+00, -4.21294962e+00])"
      ]
     },
     "execution_count": 84,
     "metadata": {},
     "output_type": "execute_result"
    }
   ],
   "source": [
    "#coefficents\n",
    "nlr_model.named_steps['model'].coef_"
   ]
  },
  {
   "cell_type": "code",
   "execution_count": 85,
   "metadata": {},
   "outputs": [
    {
     "data": {
      "text/plain": [
       "422.61073699973736"
      ]
     },
     "execution_count": 85,
     "metadata": {},
     "output_type": "execute_result"
    }
   ],
   "source": [
    "nlr_model.named_steps['model'].intercept_"
   ]
  },
  {
   "cell_type": "markdown",
   "metadata": {},
   "source": [
    "## 5. Test on untrained data"
   ]
  },
  {
   "cell_type": "markdown",
   "metadata": {},
   "source": [
    "### Creating Test Set"
   ]
  },
  {
   "cell_type": "code",
   "execution_count": 86,
   "metadata": {},
   "outputs": [
    {
     "data": {
      "text/html": [
       "<div>\n",
       "<style scoped>\n",
       "    .dataframe tbody tr th:only-of-type {\n",
       "        vertical-align: middle;\n",
       "    }\n",
       "\n",
       "    .dataframe tbody tr th {\n",
       "        vertical-align: top;\n",
       "    }\n",
       "\n",
       "    .dataframe thead th {\n",
       "        text-align: right;\n",
       "    }\n",
       "</style>\n",
       "<table border=\"1\" class=\"dataframe\">\n",
       "  <thead>\n",
       "    <tr style=\"text-align: right;\">\n",
       "      <th></th>\n",
       "      <th>Gk</th>\n",
       "      <th>Qk</th>\n",
       "      <th>L</th>\n",
       "      <th>B</th>\n",
       "      <th>H</th>\n",
       "    </tr>\n",
       "  </thead>\n",
       "  <tbody>\n",
       "    <tr>\n",
       "      <th>2000</th>\n",
       "      <td>7.652796</td>\n",
       "      <td>9.928252</td>\n",
       "      <td>5642.83</td>\n",
       "      <td>196.90</td>\n",
       "      <td>342.51</td>\n",
       "    </tr>\n",
       "    <tr>\n",
       "      <th>2001</th>\n",
       "      <td>9.873624</td>\n",
       "      <td>8.576106</td>\n",
       "      <td>7621.72</td>\n",
       "      <td>332.79</td>\n",
       "      <td>340.96</td>\n",
       "    </tr>\n",
       "    <tr>\n",
       "      <th>2002</th>\n",
       "      <td>8.223168</td>\n",
       "      <td>9.581039</td>\n",
       "      <td>6660.68</td>\n",
       "      <td>410.34</td>\n",
       "      <td>454.51</td>\n",
       "    </tr>\n",
       "    <tr>\n",
       "      <th>2003</th>\n",
       "      <td>7.443615</td>\n",
       "      <td>8.914583</td>\n",
       "      <td>4604.44</td>\n",
       "      <td>336.25</td>\n",
       "      <td>491.36</td>\n",
       "    </tr>\n",
       "    <tr>\n",
       "      <th>2004</th>\n",
       "      <td>6.835454</td>\n",
       "      <td>7.866789</td>\n",
       "      <td>4490.75</td>\n",
       "      <td>267.96</td>\n",
       "      <td>307.89</td>\n",
       "    </tr>\n",
       "    <tr>\n",
       "      <th>...</th>\n",
       "      <td>...</td>\n",
       "      <td>...</td>\n",
       "      <td>...</td>\n",
       "      <td>...</td>\n",
       "      <td>...</td>\n",
       "    </tr>\n",
       "    <tr>\n",
       "      <th>2095</th>\n",
       "      <td>8.384749</td>\n",
       "      <td>9.730140</td>\n",
       "      <td>5295.24</td>\n",
       "      <td>482.68</td>\n",
       "      <td>535.32</td>\n",
       "    </tr>\n",
       "    <tr>\n",
       "      <th>2096</th>\n",
       "      <td>5.908227</td>\n",
       "      <td>5.352417</td>\n",
       "      <td>6961.21</td>\n",
       "      <td>168.74</td>\n",
       "      <td>464.49</td>\n",
       "    </tr>\n",
       "    <tr>\n",
       "      <th>2097</th>\n",
       "      <td>6.573851</td>\n",
       "      <td>7.943249</td>\n",
       "      <td>7311.15</td>\n",
       "      <td>174.46</td>\n",
       "      <td>346.57</td>\n",
       "    </tr>\n",
       "    <tr>\n",
       "      <th>2098</th>\n",
       "      <td>7.967310</td>\n",
       "      <td>7.884354</td>\n",
       "      <td>6396.27</td>\n",
       "      <td>355.53</td>\n",
       "      <td>370.49</td>\n",
       "    </tr>\n",
       "    <tr>\n",
       "      <th>2099</th>\n",
       "      <td>7.924671</td>\n",
       "      <td>8.179659</td>\n",
       "      <td>5251.17</td>\n",
       "      <td>213.00</td>\n",
       "      <td>322.32</td>\n",
       "    </tr>\n",
       "  </tbody>\n",
       "</table>\n",
       "<p>100 rows × 5 columns</p>\n",
       "</div>"
      ],
      "text/plain": [
       "            Gk        Qk        L       B       H\n",
       "2000  7.652796  9.928252  5642.83  196.90  342.51\n",
       "2001  9.873624  8.576106  7621.72  332.79  340.96\n",
       "2002  8.223168  9.581039  6660.68  410.34  454.51\n",
       "2003  7.443615  8.914583  4604.44  336.25  491.36\n",
       "2004  6.835454  7.866789  4490.75  267.96  307.89\n",
       "...        ...       ...      ...     ...     ...\n",
       "2095  8.384749  9.730140  5295.24  482.68  535.32\n",
       "2096  5.908227  5.352417  6961.21  168.74  464.49\n",
       "2097  6.573851  7.943249  7311.15  174.46  346.57\n",
       "2098  7.967310  7.884354  6396.27  355.53  370.49\n",
       "2099  7.924671  8.179659  5251.17  213.00  322.32\n",
       "\n",
       "[100 rows x 5 columns]"
      ]
     },
     "execution_count": 86,
     "metadata": {},
     "output_type": "execute_result"
    }
   ],
   "source": [
    "m =100 #number of entries to test on\n",
    "input_X = train_log[n:n+m]\n",
    "input_X"
   ]
  },
  {
   "cell_type": "markdown",
   "metadata": {},
   "source": [
    "### Model Predictions"
   ]
  },
  {
   "cell_type": "code",
   "execution_count": 87,
   "metadata": {
    "scrolled": true
   },
   "outputs": [],
   "source": [
    "design_pred = log_model.predict(input_X)"
   ]
  },
  {
   "cell_type": "code",
   "execution_count": 88,
   "metadata": {},
   "outputs": [],
   "source": [
    "pred_nlr, pred_lr = [],[]\n",
    "for i in range(0,m):\n",
    "    if design_pred[i]==1:\n",
    "        pred_nlr.append(nlr_model.predict(input_X[i:i+1])[0])\n",
    "        pred_lr.append(lr_model.predict(input_X[i:i+1])[0])\n",
    "    else: \n",
    "        pred_nlr.append(0)\n",
    "        pred_lr.append(0)"
   ]
  },
  {
   "cell_type": "markdown",
   "metadata": {
    "scrolled": true
   },
   "source": [
    "<b>Results<b>"
   ]
  },
  {
   "cell_type": "code",
   "execution_count": 89,
   "metadata": {
    "scrolled": false
   },
   "outputs": [
    {
     "data": {
      "text/html": [
       "<div>\n",
       "<style scoped>\n",
       "    .dataframe tbody tr th:only-of-type {\n",
       "        vertical-align: middle;\n",
       "    }\n",
       "\n",
       "    .dataframe tbody tr th {\n",
       "        vertical-align: top;\n",
       "    }\n",
       "\n",
       "    .dataframe thead th {\n",
       "        text-align: right;\n",
       "    }\n",
       "</style>\n",
       "<table border=\"1\" class=\"dataframe\">\n",
       "  <thead>\n",
       "    <tr style=\"text-align: right;\">\n",
       "      <th></th>\n",
       "      <th>True Value</th>\n",
       "      <th>Non LR Prediction</th>\n",
       "      <th>LR Prediction</th>\n",
       "    </tr>\n",
       "  </thead>\n",
       "  <tbody>\n",
       "    <tr>\n",
       "      <th>2000</th>\n",
       "      <td>0.0</td>\n",
       "      <td>0.0</td>\n",
       "      <td>0.0</td>\n",
       "    </tr>\n",
       "    <tr>\n",
       "      <th>2001</th>\n",
       "      <td>0.0</td>\n",
       "      <td>0.0</td>\n",
       "      <td>0.0</td>\n",
       "    </tr>\n",
       "    <tr>\n",
       "      <th>2002</th>\n",
       "      <td>857.0</td>\n",
       "      <td>867.0</td>\n",
       "      <td>809.0</td>\n",
       "    </tr>\n",
       "    <tr>\n",
       "      <th>2003</th>\n",
       "      <td>337.0</td>\n",
       "      <td>346.0</td>\n",
       "      <td>418.0</td>\n",
       "    </tr>\n",
       "    <tr>\n",
       "      <th>2004</th>\n",
       "      <td>530.0</td>\n",
       "      <td>517.0</td>\n",
       "      <td>491.0</td>\n",
       "    </tr>\n",
       "    <tr>\n",
       "      <th>2005</th>\n",
       "      <td>0.0</td>\n",
       "      <td>0.0</td>\n",
       "      <td>0.0</td>\n",
       "    </tr>\n",
       "    <tr>\n",
       "      <th>2006</th>\n",
       "      <td>462.0</td>\n",
       "      <td>503.0</td>\n",
       "      <td>596.0</td>\n",
       "    </tr>\n",
       "    <tr>\n",
       "      <th>2007</th>\n",
       "      <td>0.0</td>\n",
       "      <td>0.0</td>\n",
       "      <td>0.0</td>\n",
       "    </tr>\n",
       "    <tr>\n",
       "      <th>2008</th>\n",
       "      <td>572.0</td>\n",
       "      <td>568.0</td>\n",
       "      <td>565.0</td>\n",
       "    </tr>\n",
       "    <tr>\n",
       "      <th>2009</th>\n",
       "      <td>0.0</td>\n",
       "      <td>0.0</td>\n",
       "      <td>0.0</td>\n",
       "    </tr>\n",
       "    <tr>\n",
       "      <th>2010</th>\n",
       "      <td>347.0</td>\n",
       "      <td>360.0</td>\n",
       "      <td>406.0</td>\n",
       "    </tr>\n",
       "    <tr>\n",
       "      <th>2011</th>\n",
       "      <td>0.0</td>\n",
       "      <td>0.0</td>\n",
       "      <td>0.0</td>\n",
       "    </tr>\n",
       "    <tr>\n",
       "      <th>2012</th>\n",
       "      <td>156.0</td>\n",
       "      <td>172.0</td>\n",
       "      <td>187.0</td>\n",
       "    </tr>\n",
       "    <tr>\n",
       "      <th>2013</th>\n",
       "      <td>0.0</td>\n",
       "      <td>601.0</td>\n",
       "      <td>533.0</td>\n",
       "    </tr>\n",
       "    <tr>\n",
       "      <th>2014</th>\n",
       "      <td>0.0</td>\n",
       "      <td>0.0</td>\n",
       "      <td>0.0</td>\n",
       "    </tr>\n",
       "    <tr>\n",
       "      <th>2015</th>\n",
       "      <td>0.0</td>\n",
       "      <td>0.0</td>\n",
       "      <td>0.0</td>\n",
       "    </tr>\n",
       "    <tr>\n",
       "      <th>2016</th>\n",
       "      <td>574.0</td>\n",
       "      <td>557.0</td>\n",
       "      <td>561.0</td>\n",
       "    </tr>\n",
       "    <tr>\n",
       "      <th>2017</th>\n",
       "      <td>0.0</td>\n",
       "      <td>0.0</td>\n",
       "      <td>0.0</td>\n",
       "    </tr>\n",
       "    <tr>\n",
       "      <th>2018</th>\n",
       "      <td>170.0</td>\n",
       "      <td>182.0</td>\n",
       "      <td>141.0</td>\n",
       "    </tr>\n",
       "    <tr>\n",
       "      <th>2019</th>\n",
       "      <td>630.0</td>\n",
       "      <td>615.0</td>\n",
       "      <td>621.0</td>\n",
       "    </tr>\n",
       "  </tbody>\n",
       "</table>\n",
       "</div>"
      ],
      "text/plain": [
       "      True Value  Non LR Prediction  LR Prediction\n",
       "2000         0.0                0.0            0.0\n",
       "2001         0.0                0.0            0.0\n",
       "2002       857.0              867.0          809.0\n",
       "2003       337.0              346.0          418.0\n",
       "2004       530.0              517.0          491.0\n",
       "2005         0.0                0.0            0.0\n",
       "2006       462.0              503.0          596.0\n",
       "2007         0.0                0.0            0.0\n",
       "2008       572.0              568.0          565.0\n",
       "2009         0.0                0.0            0.0\n",
       "2010       347.0              360.0          406.0\n",
       "2011         0.0                0.0            0.0\n",
       "2012       156.0              172.0          187.0\n",
       "2013         0.0              601.0          533.0\n",
       "2014         0.0                0.0            0.0\n",
       "2015         0.0                0.0            0.0\n",
       "2016       574.0              557.0          561.0\n",
       "2017         0.0                0.0            0.0\n",
       "2018       170.0              182.0          141.0\n",
       "2019       630.0              615.0          621.0"
      ]
     },
     "execution_count": 89,
     "metadata": {},
     "output_type": "execute_result"
    }
   ],
   "source": [
    "result = pd.DataFrame()\n",
    "result['True Value'] = Actual_AR[n:n+m]\n",
    "result['Non LR Prediction'] = pred_nlr\n",
    "result['LR Prediction'] = pred_lr\n",
    "result = round(result)\n",
    "result.head(20)"
   ]
  }
 ],
 "metadata": {
  "kernelspec": {
   "display_name": "Python 3",
   "language": "python",
   "name": "python3"
  },
  "language_info": {
   "codemirror_mode": {
    "name": "ipython",
    "version": 3
   },
   "file_extension": ".py",
   "mimetype": "text/x-python",
   "name": "python",
   "nbconvert_exporter": "python",
   "pygments_lexer": "ipython3",
   "version": "3.7.6"
  }
 },
 "nbformat": 4,
 "nbformat_minor": 4
}
